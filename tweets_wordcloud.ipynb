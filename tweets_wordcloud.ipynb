{
  "nbformat": 4,
  "nbformat_minor": 0,
  "metadata": {
    "colab": {
      "name": "tweets_wordcloud.ipynb",
      "provenance": [],
      "collapsed_sections": [],
      "mount_file_id": "1h8dWjJH10PDBRSoKa2sK-lx7oroTVLJ-",
      "authorship_tag": "ABX9TyMuda6B4MPzglIk7S+fqEyY",
      "include_colab_link": true
    },
    "kernelspec": {
      "name": "python3",
      "display_name": "Python 3"
    },
    "language_info": {
      "name": "python"
    }
  },
  "cells": [
    {
      "cell_type": "markdown",
      "metadata": {
        "id": "view-in-github",
        "colab_type": "text"
      },
      "source": [
        "<a href=\"https://colab.research.google.com/github/isoomni/Laptop4U/blob/master/tweets_wordcloud.ipynb\" target=\"_parent\"><img src=\"https://colab.research.google.com/assets/colab-badge.svg\" alt=\"Open In Colab\"/></a>"
      ]
    },
    {
      "cell_type": "markdown",
      "metadata": {
        "id": "oSUpHnkAj1MO"
      },
      "source": [
        "### 전처리 for 워드클라우드"
      ]
    },
    {
      "cell_type": "code",
      "metadata": {
        "colab": {
          "base_uri": "https://localhost:8080/"
        },
        "id": "-ROHgXoaBnP7",
        "outputId": "daff07c4-9031-48c3-f0df-09251b16fcca"
      },
      "source": [
        "pip install KoNLPy"
      ],
      "execution_count": null,
      "outputs": [
        {
          "output_type": "stream",
          "name": "stdout",
          "text": [
            "Requirement already satisfied: KoNLPy in /usr/local/lib/python3.7/dist-packages (0.5.2)\n",
            "Requirement already satisfied: lxml>=4.1.0 in /usr/local/lib/python3.7/dist-packages (from KoNLPy) (4.2.6)\n",
            "Requirement already satisfied: tweepy>=3.7.0 in /usr/local/lib/python3.7/dist-packages (from KoNLPy) (3.10.0)\n",
            "Requirement already satisfied: numpy>=1.6 in /usr/local/lib/python3.7/dist-packages (from KoNLPy) (1.19.5)\n",
            "Requirement already satisfied: beautifulsoup4==4.6.0 in /usr/local/lib/python3.7/dist-packages (from KoNLPy) (4.6.0)\n",
            "Requirement already satisfied: JPype1>=0.7.0 in /usr/local/lib/python3.7/dist-packages (from KoNLPy) (1.3.0)\n",
            "Requirement already satisfied: colorama in /usr/local/lib/python3.7/dist-packages (from KoNLPy) (0.4.4)\n",
            "Requirement already satisfied: typing-extensions in /usr/local/lib/python3.7/dist-packages (from JPype1>=0.7.0->KoNLPy) (3.10.0.2)\n",
            "Requirement already satisfied: requests-oauthlib>=0.7.0 in /usr/local/lib/python3.7/dist-packages (from tweepy>=3.7.0->KoNLPy) (1.3.0)\n",
            "Requirement already satisfied: requests[socks]>=2.11.1 in /usr/local/lib/python3.7/dist-packages (from tweepy>=3.7.0->KoNLPy) (2.23.0)\n",
            "Requirement already satisfied: six>=1.10.0 in /usr/local/lib/python3.7/dist-packages (from tweepy>=3.7.0->KoNLPy) (1.15.0)\n",
            "Requirement already satisfied: oauthlib>=3.0.0 in /usr/local/lib/python3.7/dist-packages (from requests-oauthlib>=0.7.0->tweepy>=3.7.0->KoNLPy) (3.1.1)\n",
            "Requirement already satisfied: chardet<4,>=3.0.2 in /usr/local/lib/python3.7/dist-packages (from requests[socks]>=2.11.1->tweepy>=3.7.0->KoNLPy) (3.0.4)\n",
            "Requirement already satisfied: urllib3!=1.25.0,!=1.25.1,<1.26,>=1.21.1 in /usr/local/lib/python3.7/dist-packages (from requests[socks]>=2.11.1->tweepy>=3.7.0->KoNLPy) (1.24.3)\n",
            "Requirement already satisfied: certifi>=2017.4.17 in /usr/local/lib/python3.7/dist-packages (from requests[socks]>=2.11.1->tweepy>=3.7.0->KoNLPy) (2021.10.8)\n",
            "Requirement already satisfied: idna<3,>=2.5 in /usr/local/lib/python3.7/dist-packages (from requests[socks]>=2.11.1->tweepy>=3.7.0->KoNLPy) (2.10)\n",
            "Requirement already satisfied: PySocks!=1.5.7,>=1.5.6 in /usr/local/lib/python3.7/dist-packages (from requests[socks]>=2.11.1->tweepy>=3.7.0->KoNLPy) (1.7.1)\n"
          ]
        }
      ]
    },
    {
      "cell_type": "code",
      "metadata": {
        "colab": {
          "base_uri": "https://localhost:8080/"
        },
        "id": "i8RAQo7eDdcK",
        "outputId": "43d377c8-419d-465b-edef-a89665f1d180"
      },
      "source": [
        "pip install pyperclip"
      ],
      "execution_count": null,
      "outputs": [
        {
          "output_type": "stream",
          "name": "stdout",
          "text": [
            "Requirement already satisfied: pyperclip in /usr/local/lib/python3.7/dist-packages (1.8.2)\n"
          ]
        }
      ]
    },
    {
      "cell_type": "code",
      "metadata": {
        "id": "ZTCkYMZVDf5w"
      },
      "source": [
        "import numpy as np\n",
        "import pandas as pd\n",
        "\n",
        "from konlpy.tag import Okt\n",
        "from wordcloud import WordCloud,STOPWORDS\n",
        "from wordcloud import ImageColorGenerator\n"
      ],
      "execution_count": null,
      "outputs": []
    },
    {
      "cell_type": "code",
      "metadata": {
        "id": "cPtgPt9dDtn9",
        "colab": {
          "base_uri": "https://localhost:8080/",
          "height": 206
        },
        "outputId": "697f741d-6f72-4c76-97f3-b1a48421d202"
      },
      "source": [
        "df = pd.read_csv('/content/drive/MyDrive/tweet_bitcoin/clean_tweets_df.csv')\n",
        "df.head()"
      ],
      "execution_count": null,
      "outputs": [
        {
          "output_type": "execute_result",
          "data": {
            "text/html": [
              "<div>\n",
              "<style scoped>\n",
              "    .dataframe tbody tr th:only-of-type {\n",
              "        vertical-align: middle;\n",
              "    }\n",
              "\n",
              "    .dataframe tbody tr th {\n",
              "        vertical-align: top;\n",
              "    }\n",
              "\n",
              "    .dataframe thead th {\n",
              "        text-align: right;\n",
              "    }\n",
              "</style>\n",
              "<table border=\"1\" class=\"dataframe\">\n",
              "  <thead>\n",
              "    <tr style=\"text-align: right;\">\n",
              "      <th></th>\n",
              "      <th>Unnamed: 0</th>\n",
              "      <th>timestamp</th>\n",
              "      <th>review</th>\n",
              "    </tr>\n",
              "  </thead>\n",
              "  <tbody>\n",
              "    <tr>\n",
              "      <th>0</th>\n",
              "      <td>0</td>\n",
              "      <td>2019-05-27 11:49:18+00</td>\n",
              "      <td>cardano digitize currencies eos https co ktkqk...</td>\n",
              "    </tr>\n",
              "    <tr>\n",
              "      <th>1</th>\n",
              "      <td>1</td>\n",
              "      <td>2019-05-27 11:49:06+00</td>\n",
              "      <td>another test tweet caught stream bitcoin</td>\n",
              "    </tr>\n",
              "    <tr>\n",
              "      <th>2</th>\n",
              "      <td>2</td>\n",
              "      <td>2019-05-27 11:49:22+00</td>\n",
              "      <td>current crypto prices btc usd eth usd ltc usd ...</td>\n",
              "    </tr>\n",
              "    <tr>\n",
              "      <th>3</th>\n",
              "      <td>3</td>\n",
              "      <td>2019-05-27 11:49:23+00</td>\n",
              "      <td>spiv nosar baz bitcoin asset amp currency http...</td>\n",
              "    </tr>\n",
              "    <tr>\n",
              "      <th>4</th>\n",
              "      <td>4</td>\n",
              "      <td>2019-05-27 11:49:25+00</td>\n",
              "      <td>nwoodfine building real bitcoin sv building br...</td>\n",
              "    </tr>\n",
              "  </tbody>\n",
              "</table>\n",
              "</div>"
            ],
            "text/plain": [
              "   Unnamed: 0  ...                                             review\n",
              "0           0  ...  cardano digitize currencies eos https co ktkqk...\n",
              "1           1  ...           another test tweet caught stream bitcoin\n",
              "2           2  ...  current crypto prices btc usd eth usd ltc usd ...\n",
              "3           3  ...  spiv nosar baz bitcoin asset amp currency http...\n",
              "4           4  ...  nwoodfine building real bitcoin sv building br...\n",
              "\n",
              "[5 rows x 3 columns]"
            ]
          },
          "metadata": {},
          "execution_count": 11
        }
      ]
    },
    {
      "cell_type": "code",
      "metadata": {
        "colab": {
          "base_uri": "https://localhost:8080/"
        },
        "id": "1UOHR_j3IYCt",
        "outputId": "5aa32001-dab3-46b6-b9d3-72bb1bfcf02b"
      },
      "source": [
        "# timestamp에 'en', null 값 제거\n",
        "indexes = df[df['timestamp']=='en'].index\n",
        "df = df.drop(index=indexes, axis=0)\n",
        "df = df.dropna(how='any', axis=0)\n",
        "df['timestamp'].unique()"
      ],
      "execution_count": null,
      "outputs": [
        {
          "output_type": "execute_result",
          "data": {
            "text/plain": [
              "array(['2019-05-27 11:49:18+00', '2019-05-27 11:49:06+00',\n",
              "       '2019-05-27 11:49:22+00', ..., '2019-11-23 15:45:56+00',\n",
              "       '2019-11-23 15:45:57+00', '2019-11-23 15:45:06+00'], dtype=object)"
            ]
          },
          "metadata": {},
          "execution_count": 12
        }
      ]
    },
    {
      "cell_type": "code",
      "metadata": {
        "colab": {
          "base_uri": "https://localhost:8080/",
          "height": 424
        },
        "id": "QxmCwWRCIiD1",
        "outputId": "735836c7-bc11-47a4-d696-72b0beb85ce1"
      },
      "source": [
        "# 시간 순서로 정렬\n",
        "df.sort_values(by='timestamp')"
      ],
      "execution_count": null,
      "outputs": [
        {
          "output_type": "execute_result",
          "data": {
            "text/html": [
              "<div>\n",
              "<style scoped>\n",
              "    .dataframe tbody tr th:only-of-type {\n",
              "        vertical-align: middle;\n",
              "    }\n",
              "\n",
              "    .dataframe tbody tr th {\n",
              "        vertical-align: top;\n",
              "    }\n",
              "\n",
              "    .dataframe thead th {\n",
              "        text-align: right;\n",
              "    }\n",
              "</style>\n",
              "<table border=\"1\" class=\"dataframe\">\n",
              "  <thead>\n",
              "    <tr style=\"text-align: right;\">\n",
              "      <th></th>\n",
              "      <th>Unnamed: 0</th>\n",
              "      <th>timestamp</th>\n",
              "      <th>review</th>\n",
              "    </tr>\n",
              "  </thead>\n",
              "  <tbody>\n",
              "    <tr>\n",
              "      <th>10143492</th>\n",
              "      <td>10143492</td>\n",
              "      <td>2007-04-19 07:14:38+00</td>\n",
              "      <td>happily mugging btc hook future rich lawyer bf...</td>\n",
              "    </tr>\n",
              "    <tr>\n",
              "      <th>14</th>\n",
              "      <td>14</td>\n",
              "      <td>2009-01-11 03:33:52+00</td>\n",
              "      <td>running bitcoin</td>\n",
              "    </tr>\n",
              "    <tr>\n",
              "      <th>4580370</th>\n",
              "      <td>4580370</td>\n",
              "      <td>2009-01-21 17:29:40+00</td>\n",
              "      <td>looking ways add anonymity bitcoin</td>\n",
              "    </tr>\n",
              "    <tr>\n",
              "      <th>4616565</th>\n",
              "      <td>4616565</td>\n",
              "      <td>2009-01-27 20:14:10+00</td>\n",
              "      <td>thinking reduce co emissions widespread bitcoi...</td>\n",
              "    </tr>\n",
              "    <tr>\n",
              "      <th>4663012</th>\n",
              "      <td>4663012</td>\n",
              "      <td>2009-01-29 13:37:53+00</td>\n",
              "      <td>satoshi nakamoto bitcoin v available</td>\n",
              "    </tr>\n",
              "    <tr>\n",
              "      <th>...</th>\n",
              "      <td>...</td>\n",
              "      <td>...</td>\n",
              "      <td>...</td>\n",
              "    </tr>\n",
              "    <tr>\n",
              "      <th>14583111</th>\n",
              "      <td>14583111</td>\n",
              "      <td>2019-11-23 15:45:53+00</td>\n",
              "      <td>worlds first millennium firm https co lqgie ak...</td>\n",
              "    </tr>\n",
              "    <tr>\n",
              "      <th>14583113</th>\n",
              "      <td>14583113</td>\n",
              "      <td>2019-11-23 15:45:55+00</td>\n",
              "      <td>daily profit hodling btc since data taken sinc...</td>\n",
              "    </tr>\n",
              "    <tr>\n",
              "      <th>14583115</th>\n",
              "      <td>14583115</td>\n",
              "      <td>2019-11-23 15:45:55+00</td>\n",
              "      <td>bitcoin suisse certificates https co ndabknotk</td>\n",
              "    </tr>\n",
              "    <tr>\n",
              "      <th>14583116</th>\n",
              "      <td>14583116</td>\n",
              "      <td>2019-11-23 15:45:56+00</td>\n",
              "      <td>register early access codugh api marketplace p...</td>\n",
              "    </tr>\n",
              "    <tr>\n",
              "      <th>14583117</th>\n",
              "      <td>14583117</td>\n",
              "      <td>2019-11-23 15:45:57+00</td>\n",
              "      <td>btc btc know btc baskets bank gifting platform...</td>\n",
              "    </tr>\n",
              "  </tbody>\n",
              "</table>\n",
              "<p>14575394 rows × 3 columns</p>\n",
              "</div>"
            ],
            "text/plain": [
              "          Unnamed: 0  ...                                             review\n",
              "10143492    10143492  ...  happily mugging btc hook future rich lawyer bf...\n",
              "14                14  ...                                    running bitcoin\n",
              "4580370      4580370  ...                 looking ways add anonymity bitcoin\n",
              "4616565      4616565  ...  thinking reduce co emissions widespread bitcoi...\n",
              "4663012      4663012  ...               satoshi nakamoto bitcoin v available\n",
              "...              ...  ...                                                ...\n",
              "14583111    14583111  ...  worlds first millennium firm https co lqgie ak...\n",
              "14583113    14583113  ...  daily profit hodling btc since data taken sinc...\n",
              "14583115    14583115  ...     bitcoin suisse certificates https co ndabknotk\n",
              "14583116    14583116  ...  register early access codugh api marketplace p...\n",
              "14583117    14583117  ...  btc btc know btc baskets bank gifting platform...\n",
              "\n",
              "[14575394 rows x 3 columns]"
            ]
          },
          "metadata": {},
          "execution_count": 13
        }
      ]
    },
    {
      "cell_type": "code",
      "metadata": {
        "colab": {
          "base_uri": "https://localhost:8080/"
        },
        "id": "mZF6MpWaIk_W",
        "outputId": "e149800c-881d-46fe-9ac4-f20b64bf0f0a"
      },
      "source": [
        "# 연월일로 열 생성\n",
        "df['date'] = pd.to_datetime(df['timestamp'],format= '%Y-%m-%d').dt.date\n",
        "df['date']"
      ],
      "execution_count": null,
      "outputs": [
        {
          "output_type": "execute_result",
          "data": {
            "text/plain": [
              "0           2019-05-27\n",
              "1           2019-05-27\n",
              "2           2019-05-27\n",
              "3           2019-05-27\n",
              "4           2019-05-27\n",
              "               ...    \n",
              "14583114    2019-11-23\n",
              "14583115    2019-11-23\n",
              "14583116    2019-11-23\n",
              "14583117    2019-11-23\n",
              "14583118    2019-11-23\n",
              "Name: date, Length: 14575394, dtype: object"
            ]
          },
          "metadata": {},
          "execution_count": 14
        }
      ]
    },
    {
      "cell_type": "code",
      "metadata": {
        "colab": {
          "base_uri": "https://localhost:8080/",
          "height": 424
        },
        "id": "1y3MdKzyfHSX",
        "outputId": "eb5ae055-80c6-4a53-d679-47b725a008b4"
      },
      "source": [
        "df = df.reset_index(drop=True)\n",
        "df = df[['date','review']]\n",
        "df = df.sort_values(by='date')\n",
        "df"
      ],
      "execution_count": null,
      "outputs": [
        {
          "output_type": "execute_result",
          "data": {
            "text/html": [
              "<div>\n",
              "<style scoped>\n",
              "    .dataframe tbody tr th:only-of-type {\n",
              "        vertical-align: middle;\n",
              "    }\n",
              "\n",
              "    .dataframe tbody tr th {\n",
              "        vertical-align: top;\n",
              "    }\n",
              "\n",
              "    .dataframe thead th {\n",
              "        text-align: right;\n",
              "    }\n",
              "</style>\n",
              "<table border=\"1\" class=\"dataframe\">\n",
              "  <thead>\n",
              "    <tr style=\"text-align: right;\">\n",
              "      <th></th>\n",
              "      <th>date</th>\n",
              "      <th>review</th>\n",
              "    </tr>\n",
              "  </thead>\n",
              "  <tbody>\n",
              "    <tr>\n",
              "      <th>0</th>\n",
              "      <td>2007-04-19</td>\n",
              "      <td>happily mugging btc hook future rich lawyer bf...</td>\n",
              "    </tr>\n",
              "    <tr>\n",
              "      <th>1</th>\n",
              "      <td>2009-01-11</td>\n",
              "      <td>running bitcoin</td>\n",
              "    </tr>\n",
              "    <tr>\n",
              "      <th>2</th>\n",
              "      <td>2009-01-21</td>\n",
              "      <td>looking ways add anonymity bitcoin</td>\n",
              "    </tr>\n",
              "    <tr>\n",
              "      <th>3</th>\n",
              "      <td>2009-01-27</td>\n",
              "      <td>thinking reduce co emissions widespread bitcoi...</td>\n",
              "    </tr>\n",
              "    <tr>\n",
              "      <th>4</th>\n",
              "      <td>2009-01-29</td>\n",
              "      <td>satoshi nakamoto bitcoin v available</td>\n",
              "    </tr>\n",
              "    <tr>\n",
              "      <th>...</th>\n",
              "      <td>...</td>\n",
              "      <td>...</td>\n",
              "    </tr>\n",
              "    <tr>\n",
              "      <th>14557260</th>\n",
              "      <td>2019-11-23</td>\n",
              "      <td>market cap btc dominance btc eth btc xrp btc u...</td>\n",
              "    </tr>\n",
              "    <tr>\n",
              "      <th>14557259</th>\n",
              "      <td>2019-11-23</td>\n",
              "      <td>esax ieo technology</td>\n",
              "    </tr>\n",
              "    <tr>\n",
              "      <th>14557258</th>\n",
              "      <td>2019-11-23</td>\n",
              "      <td>register early access codugh api marketplace p...</td>\n",
              "    </tr>\n",
              "    <tr>\n",
              "      <th>14557256</th>\n",
              "      <td>2019-11-23</td>\n",
              "      <td>new bitcoin report block transactions usd tota...</td>\n",
              "    </tr>\n",
              "    <tr>\n",
              "      <th>14575393</th>\n",
              "      <td>2019-11-23</td>\n",
              "      <td>btc update longer term view btc price action s...</td>\n",
              "    </tr>\n",
              "  </tbody>\n",
              "</table>\n",
              "<p>14575394 rows × 2 columns</p>\n",
              "</div>"
            ],
            "text/plain": [
              "                date                                             review\n",
              "0         2007-04-19  happily mugging btc hook future rich lawyer bf...\n",
              "1         2009-01-11                                    running bitcoin\n",
              "2         2009-01-21                 looking ways add anonymity bitcoin\n",
              "3         2009-01-27  thinking reduce co emissions widespread bitcoi...\n",
              "4         2009-01-29               satoshi nakamoto bitcoin v available\n",
              "...              ...                                                ...\n",
              "14557260  2019-11-23  market cap btc dominance btc eth btc xrp btc u...\n",
              "14557259  2019-11-23                                esax ieo technology\n",
              "14557258  2019-11-23  register early access codugh api marketplace p...\n",
              "14557256  2019-11-23  new bitcoin report block transactions usd tota...\n",
              "14575393  2019-11-23  btc update longer term view btc price action s...\n",
              "\n",
              "[14575394 rows x 2 columns]"
            ]
          },
          "metadata": {},
          "execution_count": 16
        }
      ]
    },
    {
      "cell_type": "code",
      "metadata": {
        "id": "DZbjObtUhbVf"
      },
      "source": [
        "dataframe =df"
      ],
      "execution_count": null,
      "outputs": []
    },
    {
      "cell_type": "code",
      "metadata": {
        "id": "wGZdom63iyJY"
      },
      "source": [
        "dataframe['date'] = dataframe['date'].astype(str)\n",
        "dataframe['review'] = dataframe['review'].astype(str)"
      ],
      "execution_count": null,
      "outputs": []
    },
    {
      "cell_type": "code",
      "metadata": {
        "id": "u0MmnVjDiAwI"
      },
      "source": [
        "df_done = dataframe[dataframe['date'].str.contains('2014-09|2014-10|2014-11|2014-12|2015|2016|2017|2018|2019')]"
      ],
      "execution_count": null,
      "outputs": []
    },
    {
      "cell_type": "code",
      "metadata": {
        "id": "RmYwNxyJjEYt"
      },
      "source": [
        "df_done.to_csv('tweets_for_wordcloud.csv')"
      ],
      "execution_count": null,
      "outputs": []
    },
    {
      "cell_type": "markdown",
      "metadata": {
        "id": "EJROmM86jdmf"
      },
      "source": [
        "### 워드 클라우드"
      ]
    },
    {
      "cell_type": "code",
      "metadata": {
        "id": "nwj9EeT3kNr1"
      },
      "source": [
        "import numpy as np\n",
        "import pandas as pd"
      ],
      "execution_count": null,
      "outputs": []
    },
    {
      "cell_type": "code",
      "metadata": {
        "colab": {
          "base_uri": "https://localhost:8080/",
          "height": 206
        },
        "id": "SnrOERnajY8-",
        "outputId": "86e66e8d-cf8d-4fc2-8785-f23a0d84124c"
      },
      "source": [
        "df = pd.read_csv('/content/drive/MyDrive/tweet_bitcoin/tweets_for_wordcloud.csv')\n",
        "df.head()"
      ],
      "execution_count": null,
      "outputs": [
        {
          "output_type": "execute_result",
          "data": {
            "text/html": [
              "<div>\n",
              "<style scoped>\n",
              "    .dataframe tbody tr th:only-of-type {\n",
              "        vertical-align: middle;\n",
              "    }\n",
              "\n",
              "    .dataframe tbody tr th {\n",
              "        vertical-align: top;\n",
              "    }\n",
              "\n",
              "    .dataframe thead th {\n",
              "        text-align: right;\n",
              "    }\n",
              "</style>\n",
              "<table border=\"1\" class=\"dataframe\">\n",
              "  <thead>\n",
              "    <tr style=\"text-align: right;\">\n",
              "      <th></th>\n",
              "      <th>Unnamed: 0</th>\n",
              "      <th>date</th>\n",
              "      <th>review</th>\n",
              "    </tr>\n",
              "  </thead>\n",
              "  <tbody>\n",
              "    <tr>\n",
              "      <th>0</th>\n",
              "      <td>286895</td>\n",
              "      <td>2014-09-01</td>\n",
              "      <td>utc h range volume btc</td>\n",
              "    </tr>\n",
              "    <tr>\n",
              "      <th>1</th>\n",
              "      <td>286893</td>\n",
              "      <td>2014-09-01</td>\n",
              "      <td>last mins arb opps spanning exchange pair yiel...</td>\n",
              "    </tr>\n",
              "    <tr>\n",
              "      <th>2</th>\n",
              "      <td>286894</td>\n",
              "      <td>2014-09-01</td>\n",
              "      <td>live profit buy b bitfinex sell vircurex bitco...</td>\n",
              "    </tr>\n",
              "    <tr>\n",
              "      <th>3</th>\n",
              "      <td>286891</td>\n",
              "      <td>2014-09-01</td>\n",
              "      <td>last mins arb opps spanning exchange pair yiel...</td>\n",
              "    </tr>\n",
              "    <tr>\n",
              "      <th>4</th>\n",
              "      <td>286892</td>\n",
              "      <td>2014-09-01</td>\n",
              "      <td>last mins arb opps spanning exchange pair yiel...</td>\n",
              "    </tr>\n",
              "  </tbody>\n",
              "</table>\n",
              "</div>"
            ],
            "text/plain": [
              "   Unnamed: 0        date                                             review\n",
              "0      286895  2014-09-01                             utc h range volume btc\n",
              "1      286893  2014-09-01  last mins arb opps spanning exchange pair yiel...\n",
              "2      286894  2014-09-01  live profit buy b bitfinex sell vircurex bitco...\n",
              "3      286891  2014-09-01  last mins arb opps spanning exchange pair yiel...\n",
              "4      286892  2014-09-01  last mins arb opps spanning exchange pair yiel..."
            ]
          },
          "metadata": {},
          "execution_count": 4
        }
      ]
    },
    {
      "cell_type": "code",
      "metadata": {
        "colab": {
          "base_uri": "https://localhost:8080/",
          "height": 424
        },
        "id": "7mP5NI3glAx0",
        "outputId": "60c36a4c-5cc6-4e96-b6dc-1ab83a4557ba"
      },
      "source": [
        "df = df[['date','review']]\n",
        "df"
      ],
      "execution_count": null,
      "outputs": [
        {
          "output_type": "execute_result",
          "data": {
            "text/html": [
              "<div>\n",
              "<style scoped>\n",
              "    .dataframe tbody tr th:only-of-type {\n",
              "        vertical-align: middle;\n",
              "    }\n",
              "\n",
              "    .dataframe tbody tr th {\n",
              "        vertical-align: top;\n",
              "    }\n",
              "\n",
              "    .dataframe thead th {\n",
              "        text-align: right;\n",
              "    }\n",
              "</style>\n",
              "<table border=\"1\" class=\"dataframe\">\n",
              "  <thead>\n",
              "    <tr style=\"text-align: right;\">\n",
              "      <th></th>\n",
              "      <th>date</th>\n",
              "      <th>review</th>\n",
              "    </tr>\n",
              "  </thead>\n",
              "  <tbody>\n",
              "    <tr>\n",
              "      <th>0</th>\n",
              "      <td>2014-09-01</td>\n",
              "      <td>utc h range volume btc</td>\n",
              "    </tr>\n",
              "    <tr>\n",
              "      <th>1</th>\n",
              "      <td>2014-09-01</td>\n",
              "      <td>last mins arb opps spanning exchange pair yiel...</td>\n",
              "    </tr>\n",
              "    <tr>\n",
              "      <th>2</th>\n",
              "      <td>2014-09-01</td>\n",
              "      <td>live profit buy b bitfinex sell vircurex bitco...</td>\n",
              "    </tr>\n",
              "    <tr>\n",
              "      <th>3</th>\n",
              "      <td>2014-09-01</td>\n",
              "      <td>last mins arb opps spanning exchange pair yiel...</td>\n",
              "    </tr>\n",
              "    <tr>\n",
              "      <th>4</th>\n",
              "      <td>2014-09-01</td>\n",
              "      <td>last mins arb opps spanning exchange pair yiel...</td>\n",
              "    </tr>\n",
              "    <tr>\n",
              "      <th>...</th>\n",
              "      <td>...</td>\n",
              "      <td>...</td>\n",
              "    </tr>\n",
              "    <tr>\n",
              "      <th>14288933</th>\n",
              "      <td>2019-11-23</td>\n",
              "      <td>market cap btc dominance btc eth btc xrp btc u...</td>\n",
              "    </tr>\n",
              "    <tr>\n",
              "      <th>14288934</th>\n",
              "      <td>2019-11-23</td>\n",
              "      <td>esax ieo technology</td>\n",
              "    </tr>\n",
              "    <tr>\n",
              "      <th>14288935</th>\n",
              "      <td>2019-11-23</td>\n",
              "      <td>register early access codugh api marketplace p...</td>\n",
              "    </tr>\n",
              "    <tr>\n",
              "      <th>14288936</th>\n",
              "      <td>2019-11-23</td>\n",
              "      <td>new bitcoin report block transactions usd tota...</td>\n",
              "    </tr>\n",
              "    <tr>\n",
              "      <th>14288937</th>\n",
              "      <td>2019-11-23</td>\n",
              "      <td>btc update longer term view btc price action s...</td>\n",
              "    </tr>\n",
              "  </tbody>\n",
              "</table>\n",
              "<p>14288938 rows × 2 columns</p>\n",
              "</div>"
            ],
            "text/plain": [
              "                date                                             review\n",
              "0         2014-09-01                             utc h range volume btc\n",
              "1         2014-09-01  last mins arb opps spanning exchange pair yiel...\n",
              "2         2014-09-01  live profit buy b bitfinex sell vircurex bitco...\n",
              "3         2014-09-01  last mins arb opps spanning exchange pair yiel...\n",
              "4         2014-09-01  last mins arb opps spanning exchange pair yiel...\n",
              "...              ...                                                ...\n",
              "14288933  2019-11-23  market cap btc dominance btc eth btc xrp btc u...\n",
              "14288934  2019-11-23                                esax ieo technology\n",
              "14288935  2019-11-23  register early access codugh api marketplace p...\n",
              "14288936  2019-11-23  new bitcoin report block transactions usd tota...\n",
              "14288937  2019-11-23  btc update longer term view btc price action s...\n",
              "\n",
              "[14288938 rows x 2 columns]"
            ]
          },
          "metadata": {},
          "execution_count": 56
        }
      ]
    },
    {
      "cell_type": "markdown",
      "metadata": {
        "id": "wj38HRcmTSa-"
      },
      "source": [
        "#### 2015-06 ~ 08 \n",
        "2015년 8월 52주 신저가 갱신"
      ]
    },
    {
      "cell_type": "code",
      "metadata": {
        "id": "wdoQQf70c7Zd"
      },
      "source": [
        "import nltk\n",
        "import pickle\n",
        "from nltk.corpus import stopwords\n",
        "import re\n",
        "nltk.download('all')"
      ],
      "execution_count": null,
      "outputs": []
    },
    {
      "cell_type": "code",
      "metadata": {
        "id": "B1xVcQA_bP1V"
      },
      "source": [
        "df_de = df[df['date'].str.contains('2017-12')]"
      ],
      "execution_count": null,
      "outputs": []
    },
    {
      "cell_type": "code",
      "metadata": {
        "colab": {
          "base_uri": "https://localhost:8080/"
        },
        "id": "1tqUKGoodB4d",
        "outputId": "00abf43c-cf0e-435f-e581-3621d86aac9c"
      },
      "source": [
        "# 불필요한 심볼을 없애고 문장 단위로 끊었다.\n",
        "df_de = re.sub(r'[^\\.\\?\\!\\w\\d\\s]','',str(df_de['review'])) # 문장단위로 끊기\n",
        "print(df_de)"
      ],
      "execution_count": null,
      "outputs": [
        {
          "output_type": "stream",
          "name": "stdout",
          "text": [
            "897966     sign luno get idr worth bitcoin buy sell idr e...\n",
            "897967     btc hr summary last high low change volume btc...\n",
            "897968     past week bitcoin original cryptocurrency shot...\n",
            "897969                btc loading pic twitter com rxumhiu ud\n",
            "897970                                       tonight bitcoin\n",
            "                                 ...                        \n",
            "1136709    buy signal received dash trading btc rate date...\n",
            "1136710    btcusd alert change open currently vs midnight...\n",
            "1136711    live profit buy b bitfinex sell kraken bitcoin...\n",
            "1136712    buy pm pdt price close stop gdax coinbase btc ...\n",
            "1136713    buy signal received dash trading btc rate date...\n",
            "Name review Length 238748 dtype object\n"
          ]
        }
      ]
    },
    {
      "cell_type": "code",
      "metadata": {
        "id": "Ai3s8I-SeNNZ"
      },
      "source": [
        "# 모두 소문자로 변환한다.\n",
        "df_de = df_de.lower()"
      ],
      "execution_count": null,
      "outputs": []
    },
    {
      "cell_type": "code",
      "metadata": {
        "colab": {
          "base_uri": "https://localhost:8080/"
        },
        "id": "y-4pUPH3eP6-",
        "outputId": "f6171db2-45d2-405d-aece-96bafd9c2c59"
      },
      "source": [
        "# 각각의 워드를 토큰으로 쪼갠다.\n",
        "word_tokens = nltk.word_tokenize(df_de)\n",
        "print(word_tokens)"
      ],
      "execution_count": null,
      "outputs": [
        {
          "output_type": "stream",
          "name": "stdout",
          "text": [
            "['897966', 'sign', 'luno', 'get', 'idr', 'worth', 'bitcoin', 'buy', 'sell', 'idr', 'e', '...', '897967', 'btc', 'hr', 'summary', 'last', 'high', 'low', 'change', 'volume', 'btc', '...', '897968', 'past', 'week', 'bitcoin', 'original', 'cryptocurrency', 'shot', '...', '897969', 'btc', 'loading', 'pic', 'twitter', 'com', 'rxumhiu', 'ud', '897970', 'tonight', 'bitcoin', '...', '1136709', 'buy', 'signal', 'received', 'dash', 'trading', 'btc', 'rate', 'date', '...', '1136710', 'btcusd', 'alert', 'change', 'open', 'currently', 'vs', 'midnight', '...', '1136711', 'live', 'profit', 'buy', 'b', 'bitfinex', 'sell', 'kraken', 'bitcoin', '...', '1136712', 'buy', 'pm', 'pdt', 'price', 'close', 'stop', 'gdax', 'coinbase', 'btc', '...', '1136713', 'buy', 'signal', 'received', 'dash', 'trading', 'btc', 'rate', 'date', '...', 'name', 'review', 'length', '238748', 'dtype', 'object']\n"
          ]
        }
      ]
    },
    {
      "cell_type": "code",
      "metadata": {
        "colab": {
          "base_uri": "https://localhost:8080/"
        },
        "id": "quUlXrzImQlU",
        "outputId": "cdde80e2-2341-49cc-ea24-0f2168b63e15"
      },
      "source": [
        "# 품사를 분리한다.\n",
        "# 영어의 경우는 nltk에서 제공하는 pos_tag() 함수를 사용해서 품사 태깅을 할 수 있다\n",
        "# pos_tag()의 입력값으로는 단어의 리스트가 들어가야 한다.\n",
        "tokens_pos = nltk.pos_tag(word_tokens)\n",
        "print(tokens_pos)"
      ],
      "execution_count": null,
      "outputs": [
        {
          "output_type": "stream",
          "name": "stdout",
          "text": [
            "[('897966', 'CD'), ('sign', 'NN'), ('luno', 'NN'), ('get', 'VBP'), ('idr', 'JJ'), ('worth', 'NN'), ('bitcoin', 'VB'), ('buy', 'NN'), ('sell', 'VB'), ('idr', 'JJ'), ('e', 'NN'), ('...', ':'), ('897967', 'CD'), ('btc', 'NN'), ('hr', 'NN'), ('summary', 'NN'), ('last', 'JJ'), ('high', 'JJ'), ('low', 'JJ'), ('change', 'NN'), ('volume', 'NN'), ('btc', 'NN'), ('...', ':'), ('897968', 'CD'), ('past', 'IN'), ('week', 'NN'), ('bitcoin', 'NN'), ('original', 'JJ'), ('cryptocurrency', 'NN'), ('shot', 'NN'), ('...', ':'), ('897969', 'CD'), ('btc', 'NN'), ('loading', 'VBG'), ('pic', 'NN'), ('twitter', 'NN'), ('com', 'NN'), ('rxumhiu', 'NN'), ('ud', 'JJ'), ('897970', 'CD'), ('tonight', 'NN'), ('bitcoin', 'NN'), ('...', ':'), ('1136709', 'CD'), ('buy', 'JJ'), ('signal', 'JJ'), ('received', 'VBN'), ('dash', 'JJ'), ('trading', 'NN'), ('btc', 'NN'), ('rate', 'NN'), ('date', 'NN'), ('...', ':'), ('1136710', 'CD'), ('btcusd', 'NN'), ('alert', 'NN'), ('change', 'NN'), ('open', 'JJ'), ('currently', 'RB'), ('vs', 'VBP'), ('midnight', 'NN'), ('...', ':'), ('1136711', 'CD'), ('live', 'JJ'), ('profit', 'NN'), ('buy', 'NN'), ('b', 'IN'), ('bitfinex', 'NN'), ('sell', 'NN'), ('kraken', 'VBN'), ('bitcoin', 'NN'), ('...', ':'), ('1136712', 'CD'), ('buy', 'NN'), ('pm', 'NN'), ('pdt', 'JJ'), ('price', 'NN'), ('close', 'RB'), ('stop', 'JJ'), ('gdax', 'NN'), ('coinbase', 'NN'), ('btc', 'NN'), ('...', ':'), ('1136713', 'CD'), ('buy', 'JJ'), ('signal', 'JJ'), ('received', 'VBN'), ('dash', 'JJ'), ('trading', 'NN'), ('btc', 'NN'), ('rate', 'NN'), ('date', 'NN'), ('...', ':'), ('name', 'NN'), ('review', 'NN'), ('length', 'VBD'), ('238748', 'CD'), ('dtype', 'NN'), ('object', 'NN')]\n"
          ]
        }
      ]
    },
    {
      "cell_type": "code",
      "metadata": {
        "colab": {
          "base_uri": "https://localhost:8080/"
        },
        "id": "AQAWDoIqR1H_",
        "outputId": "109accc8-c208-410e-cb52-efa5ede144a4"
      },
      "source": [
        "# 명사. 형용사 추출하기\n",
        "# 명사는 NN을 포함하고 있음을 알 수 있음\n",
        "NJ_words = []\n",
        "for word, pos in tokens_pos:\n",
        "    if 'NN' or 'JJ' in pos:\n",
        "        NJ_words.append(word)\n",
        "print(NJ_words)"
      ],
      "execution_count": null,
      "outputs": [
        {
          "output_type": "stream",
          "name": "stdout",
          "text": [
            "['897966', 'sign', 'luno', 'get', 'idr', 'worth', 'bitcoin', 'buy', 'sell', 'idr', 'e', '...', '897967', 'btc', 'hr', 'summary', 'last', 'high', 'low', 'change', 'volume', 'btc', '...', '897968', 'past', 'week', 'bitcoin', 'original', 'cryptocurrency', 'shot', '...', '897969', 'btc', 'loading', 'pic', 'twitter', 'com', 'rxumhiu', 'ud', '897970', 'tonight', 'bitcoin', '...', '1136709', 'buy', 'signal', 'received', 'dash', 'trading', 'btc', 'rate', 'date', '...', '1136710', 'btcusd', 'alert', 'change', 'open', 'currently', 'vs', 'midnight', '...', '1136711', 'live', 'profit', 'buy', 'b', 'bitfinex', 'sell', 'kraken', 'bitcoin', '...', '1136712', 'buy', 'pm', 'pdt', 'price', 'close', 'stop', 'gdax', 'coinbase', 'btc', '...', '1136713', 'buy', 'signal', 'received', 'dash', 'trading', 'btc', 'rate', 'date', '...', 'name', 'review', 'length', '238748', 'dtype', 'object']\n"
          ]
        }
      ]
    },
    {
      "cell_type": "code",
      "metadata": {
        "colab": {
          "base_uri": "https://localhost:8080/"
        },
        "id": "ZieAydb4mfb1",
        "outputId": "5cdff4bc-70c1-48cb-a6a9-da13578d0135"
      },
      "source": [
        "# Lemmatization(원형(lemma) 찾기)\n",
        "# 영어는 각 word의 원형을 찾는 기능을 활용할 수 있다. 원형을 찾아 같은 의미의 단어 토큰들을 하나의 값으로 인지하도록 한다. 자세한 내용은 아래 링크에서 확인할 수 있다.\n",
        "# https://textminingonline.com/dive-into-nltk-part-iv-stemming-and-lemmatization\n",
        "# nltk에서 제공되는 WordNetLemmatizer을 이용\n",
        "# ex) 명사의 경우는 보통 복수 -> 단수 형태로 변형\n",
        "wlem = nltk.WordNetLemmatizer()\n",
        "lemmatized_words = []\n",
        "for word in NJ_words:\n",
        "    new_word = wlem.lemmatize(word)\n",
        "    lemmatized_words.append(new_word)\n",
        "\n",
        "print(lemmatized_words)"
      ],
      "execution_count": null,
      "outputs": [
        {
          "output_type": "stream",
          "name": "stdout",
          "text": [
            "['897966', 'sign', 'luno', 'get', 'idr', 'worth', 'bitcoin', 'buy', 'sell', 'idr', 'e', '...', '897967', 'btc', 'hr', 'summary', 'last', 'high', 'low', 'change', 'volume', 'btc', '...', '897968', 'past', 'week', 'bitcoin', 'original', 'cryptocurrency', 'shot', '...', '897969', 'btc', 'loading', 'pic', 'twitter', 'com', 'rxumhiu', 'ud', '897970', 'tonight', 'bitcoin', '...', '1136709', 'buy', 'signal', 'received', 'dash', 'trading', 'btc', 'rate', 'date', '...', '1136710', 'btcusd', 'alert', 'change', 'open', 'currently', 'v', 'midnight', '...', '1136711', 'live', 'profit', 'buy', 'b', 'bitfinex', 'sell', 'kraken', 'bitcoin', '...', '1136712', 'buy', 'pm', 'pdt', 'price', 'close', 'stop', 'gdax', 'coinbase', 'btc', '...', '1136713', 'buy', 'signal', 'received', 'dash', 'trading', 'btc', 'rate', 'date', '...', 'name', 'review', 'length', '238748', 'dtype', 'object']\n"
          ]
        }
      ]
    },
    {
      "cell_type": "code",
      "metadata": {
        "id": "RDsJH8sOmoP-"
      },
      "source": [
        "# nltk에서 제공하는 불용어 사전을 통해 사용하지 않을 단어를 제거할 수 있다. 불용어 기본 사전을 통해 1차 제거용으로 활용한다.\n",
        "stopwords_list = stopwords.words('english') #nltk에서 제공하는 불용어사전 이용\n",
        "#print('stopwords: ', stopwords_list)\n",
        "unique_NJ_words = set(lemmatized_words)\n",
        "final_NJ_words = lemmatized_words\n",
        "\n",
        "# 불용어 제거\n",
        "for word in unique_NJ_words:\n",
        "    if word in stopwords_list:\n",
        "        while word in final_NJ_words: final_NJ_words.remove(word)\n",
        "\n"
      ],
      "execution_count": null,
      "outputs": []
    },
    {
      "cell_type": "code",
      "metadata": {
        "id": "SaAfYNzboXXx"
      },
      "source": [
        "# 3글자 이상만 추출\n",
        "final_NJ_words = [e for e in final_NJ_words if len(e) >= 3]"
      ],
      "execution_count": null,
      "outputs": []
    },
    {
      "cell_type": "code",
      "metadata": {
        "colab": {
          "base_uri": "https://localhost:8080/"
        },
        "id": "P5mumh-5o6I_",
        "outputId": "d782c1b3-409a-48ee-ad8d-3b74b3549d26"
      },
      "source": [
        "customized_stopwords = ['btc', 'min', \"inr\", \"http\", \"dtype\", \"object\", \"bitcoin\", \"bit\", \"btce\", \"btcusd\", \"range\", \"average\", \"sell\",\n",
        "                        'volume', 'change', 'price', 'review', 'size', 'byte', 'gbtc','trend', 'cap', 'worth' ] # 직접 만든 불용어 사전\n",
        "\n",
        "unique_NJ_words1 = set(final_NJ_words)\n",
        "for word in unique_NJ_words1:\n",
        "    if word in customized_stopwords:\n",
        "        while word in final_NJ_words: final_NJ_words.remove(word)\n",
        "\n",
        "print(final_NJ_words)"
      ],
      "execution_count": null,
      "outputs": [
        {
          "output_type": "stream",
          "name": "stdout",
          "text": [
            "['897966', 'sign', 'luno', 'get', 'idr', 'buy', 'idr', '...', '897967', 'summary', 'last', 'high', 'low', '...', '897968', 'past', 'week', 'original', 'cryptocurrency', 'shot', '...', '897969', 'loading', 'pic', 'twitter', 'com', 'rxumhiu', '897970', 'tonight', '...', '1136709', 'buy', 'signal', 'received', 'dash', 'trading', 'rate', 'date', '...', '1136710', 'alert', 'open', 'currently', 'midnight', '...', '1136711', 'live', 'profit', 'buy', 'bitfinex', 'kraken', '...', '1136712', 'buy', 'pdt', 'close', 'stop', 'gdax', 'coinbase', '...', '1136713', 'buy', 'signal', 'received', 'dash', 'trading', 'rate', 'date', '...', 'name', 'length', '238748']\n"
          ]
        }
      ]
    },
    {
      "cell_type": "code",
      "metadata": {
        "colab": {
          "base_uri": "https://localhost:8080/"
        },
        "id": "lQnJtlcZmvLh",
        "outputId": "86159d10-8173-4a21-b1c2-0c485ba73a82"
      },
      "source": [
        "# 빈도 분석\n",
        "from collections import Counter\n",
        "c = Counter(final_NJ_words) # input type should be a list of words (or tokens)\n",
        "print(c)\n",
        "k = 50\n",
        "print(c.most_common(k)) # 빈도수 기준 상위 k개 단어 출력"
      ],
      "execution_count": null,
      "outputs": [
        {
          "output_type": "stream",
          "name": "stdout",
          "text": [
            "Counter({'...': 9, 'buy': 5, 'idr': 2, 'signal': 2, 'received': 2, 'dash': 2, 'trading': 2, 'rate': 2, 'date': 2, '897966': 1, 'sign': 1, 'luno': 1, 'get': 1, '897967': 1, 'summary': 1, 'last': 1, 'high': 1, 'low': 1, '897968': 1, 'past': 1, 'week': 1, 'original': 1, 'cryptocurrency': 1, 'shot': 1, '897969': 1, 'loading': 1, 'pic': 1, 'twitter': 1, 'com': 1, 'rxumhiu': 1, '897970': 1, 'tonight': 1, '1136709': 1, '1136710': 1, 'alert': 1, 'open': 1, 'currently': 1, 'midnight': 1, '1136711': 1, 'live': 1, 'profit': 1, 'bitfinex': 1, 'kraken': 1, '1136712': 1, 'pdt': 1, 'close': 1, 'stop': 1, 'gdax': 1, 'coinbase': 1, '1136713': 1, 'name': 1, 'length': 1, '238748': 1})\n",
            "[('...', 9), ('buy', 5), ('idr', 2), ('signal', 2), ('received', 2), ('dash', 2), ('trading', 2), ('rate', 2), ('date', 2), ('897966', 1), ('sign', 1), ('luno', 1), ('get', 1), ('897967', 1), ('summary', 1), ('last', 1), ('high', 1), ('low', 1), ('897968', 1), ('past', 1), ('week', 1), ('original', 1), ('cryptocurrency', 1), ('shot', 1), ('897969', 1), ('loading', 1), ('pic', 1), ('twitter', 1), ('com', 1), ('rxumhiu', 1), ('897970', 1), ('tonight', 1), ('1136709', 1), ('1136710', 1), ('alert', 1), ('open', 1), ('currently', 1), ('midnight', 1), ('1136711', 1), ('live', 1), ('profit', 1), ('bitfinex', 1), ('kraken', 1), ('1136712', 1), ('pdt', 1), ('close', 1), ('stop', 1), ('gdax', 1), ('coinbase', 1), ('1136713', 1)]\n"
          ]
        }
      ]
    },
    {
      "cell_type": "code",
      "metadata": {
        "colab": {
          "base_uri": "https://localhost:8080/",
          "height": 73
        },
        "id": "54E20TgfmzyB",
        "outputId": "9b9e04fe-75cf-4bfa-f14f-07eb751f36aa"
      },
      "source": [
        "import wordcloud\n",
        "from wordcloud import WordCloud\n",
        "import matplotlib.pyplot as plt\n",
        "from os import path\n",
        "\n",
        "noun_text = ''\n",
        "for word in final_NJ_words:\n",
        "    noun_text = noun_text +' '+word\n",
        "noun_text"
      ],
      "execution_count": null,
      "outputs": [
        {
          "output_type": "execute_result",
          "data": {
            "application/vnd.google.colaboratory.intrinsic+json": {
              "type": "string"
            },
            "text/plain": [
              "' 897966 sign luno get idr buy idr ... 897967 summary last high low ... 897968 past week original cryptocurrency shot ... 897969 loading pic twitter com rxumhiu 897970 tonight ... 1136709 buy signal received dash trading rate date ... 1136710 alert open currently midnight ... 1136711 live profit buy bitfinex kraken ... 1136712 buy pdt close stop gdax coinbase ... 1136713 buy signal received dash trading rate date ... name length 238748'"
            ]
          },
          "metadata": {},
          "execution_count": 368
        }
      ]
    },
    {
      "cell_type": "code",
      "metadata": {
        "colab": {
          "base_uri": "https://localhost:8080/",
          "height": 198
        },
        "id": "g6ZSErPTm-Qz",
        "outputId": "021a32fc-3b41-46e5-8a1a-805618696405"
      },
      "source": [
        "wordcloud = WordCloud(max_font_size=50, max_words=30, background_color='white', relative_scaling=.5).generate(noun_text)\n",
        "plt.figure()\n",
        "plt.imshow(wordcloud, interpolation='bilinear')\n",
        "plt.axis(\"off\")\n",
        "plt.show()"
      ],
      "execution_count": null,
      "outputs": [
        {
          "output_type": "display_data",
          "data": {
            "image/png": "[encoded data removed]",
            "text/plain": [
              "<Figure size 432x288 with 1 Axes>"
            ]
          },
          "metadata": {
            "needs_background": "light"
          }
        }
      ]
    },
    {
      "cell_type": "code",
      "metadata": {
        "id": "cjewayVXV1W9"
      },
      "source": [
        ""
      ],
      "execution_count": null,
      "outputs": []
    }
  ]
}